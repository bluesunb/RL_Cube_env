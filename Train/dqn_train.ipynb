{
 "cells": [
  {
   "cell_type": "markdown",
   "source": [
    "# Cube Env Training\n",
    "\n",
    "## Import configurations"
   ],
   "metadata": {
    "collapsed": false,
    "pycharm": {
     "name": "#%% md\n"
    }
   }
  },
  {
   "cell_type": "code",
   "execution_count": 4,
   "metadata": {
    "collapsed": true,
    "pycharm": {
     "name": "#%%\n"
    }
   },
   "outputs": [],
   "source": [
    "import yaml\n",
    "import torch as th\n",
    "\n",
    "config = yaml.full_load(open('args/dqn_config_default.yaml'))\n",
    "\n",
    "model_kwargs = config['model']\n",
    "policy_kwargs = config['policy']\n",
    "learning_kwargs = config['learning']"
   ]
  },
  {
   "cell_type": "markdown",
   "source": [
    "### default config\n",
    "- policy kwargs"
   ],
   "metadata": {
    "collapsed": false,
    "pycharm": {
     "name": "#%% md\n"
    }
   }
  },
  {
   "cell_type": "code",
   "source": [
    "from pprint import pprint\n",
    "\n",
    "pprint(policy_kwargs)"
   ],
   "metadata": {
    "collapsed": false,
    "pycharm": {
     "name": "#%%\n"
    }
   },
   "execution_count": 5,
   "outputs": [
    {
     "name": "stdout",
     "output_type": "stream",
     "text": [
      "{'features_extractor_class': None,\n",
      " 'features_extractor_kwargs': None,\n",
      " 'net_arch': None,\n",
      " 'normalize_images': True,\n",
      " 'optimizer_class': <class 'torch.optim.adam.Adam'>,\n",
      " 'optimizer_kwargs': None}\n"
     ]
    }
   ]
  },
  {
   "cell_type": "markdown",
   "source": [
    "- model kwargs"
   ],
   "metadata": {
    "collapsed": false,
    "pycharm": {
     "name": "#%% md\n"
    }
   }
  },
  {
   "cell_type": "code",
   "execution_count": 6,
   "outputs": [
    {
     "name": "stdout",
     "output_type": "stream",
     "text": [
      "{'_init_setup_model': True,\n",
      " 'batch_size': 32,\n",
      " 'buffer_size': 1000000,\n",
      " 'create_eval_env': False,\n",
      " 'device': 'auto',\n",
      " 'exploration_final_eps': 0.05,\n",
      " 'exploration_fraction': 0.1,\n",
      " 'exploration_initial_eps': 1.0,\n",
      " 'gamma': 0.99,\n",
      " 'gradient_steps': 1,\n",
      " 'learning_rate': 0.0001,\n",
      " 'learning_starts': 50000,\n",
      " 'max_grad_norm': 10.0,\n",
      " 'optimize_memory_usage': False,\n",
      " 'policy_kwargs': {'features_extractor_class': None,\n",
      "                   'features_extractor_kwargs': None,\n",
      "                   'net_arch': None,\n",
      "                   'normalize_images': True,\n",
      "                   'optimizer_class': <class 'torch.optim.adam.Adam'>,\n",
      "                   'optimizer_kwargs': None},\n",
      " 'replay_buffer_class': None,\n",
      " 'replay_buffer_kwargs': None,\n",
      " 'seed': None,\n",
      " 'target_update_interval': 10000,\n",
      " 'tau': 1.0,\n",
      " 'tensorboard_log': None,\n",
      " 'train_freq': 4,\n",
      " 'verbose': 0}\n"
     ]
    }
   ],
   "source": [
    "pprint(model_kwargs)"
   ],
   "metadata": {
    "collapsed": false,
    "pycharm": {
     "name": "#%%\n"
    }
   }
  },
  {
   "cell_type": "markdown",
   "source": [
    "- learning kwargs"
   ],
   "metadata": {
    "collapsed": false,
    "pycharm": {
     "name": "#%% md\n"
    }
   }
  },
  {
   "cell_type": "code",
   "execution_count": 7,
   "outputs": [
    {
     "name": "stdout",
     "output_type": "stream",
     "text": [
      "{'callback': None,\n",
      " 'eval_env': None,\n",
      " 'eval_freq': 100000,\n",
      " 'eval_log_path': None,\n",
      " 'log_interval': 100,\n",
      " 'n_eval_episodes': 5,\n",
      " 'reset_num_timesteps': True,\n",
      " 'tb_log_name': None}\n"
     ]
    }
   ],
   "source": [
    "pprint(learning_kwargs)"
   ],
   "metadata": {
    "collapsed": false,
    "pycharm": {
     "name": "#%%\n"
    }
   }
  },
  {
   "cell_type": "markdown",
   "source": [
    "## optimize configurations\n",
    "\n",
    "### Env setting\n",
    "- environment<br>\n",
    "    `CubeEnv(3)`\n",
    "- observation space<br>\n",
    "    `MultiDiscrete([6 6 6 6 6 6 6 6 6 6 6 6 6 6 6 6 6 6 6 6 6 6 6 6 6 6 6 6 6 6 6 6 6 6 6 6 6\n",
    " 6 6 6 6 6 6 6 6 6 6 6 6 6 6 6 6 6])`<br>\n",
    "  = `MultiDiscrete(np.zeros((6,3,3)).flatten() + 6)`<br>\n",
    "  = 3x3 크기의 큐브면 6개를 flatten한 array\n",
    "\n",
    "  <details><summary>flatten 이유</summary>\n",
    "\n",
    "    `MultiDiscrete` space는 2차원 형식의 traning을 지원하지 않았음 <br>\n",
    "    (어차피 `feature_extractor`가 2차원을 지원하게 만들어도, `basepolicy`에서 obs를 preprocess할 때 2차원 형식은 env의 vectorization 이유로 처리 불가)\n",
    "  </details>\n",
    "\n",
    "- action space<br>\n",
    "    `Discrete(12)`<br>\n",
    "     6개의 면에 대한 회전 * 2개 방향\n",
    "\n",
    "- preprocessed observation space<br>\n",
    "    `one_hot(Env.observation_space)`<br>\n",
    "    size: (1,324)"
   ],
   "metadata": {
    "collapsed": false,
    "pycharm": {
     "name": "#%% md\n"
    }
   }
  },
  {
   "cell_type": "markdown",
   "source": [
    "## Training setting"
   ],
   "metadata": {
    "collapsed": false,
    "pycharm": {
     "name": "#%% md\n"
    }
   }
  },
  {
   "cell_type": "code",
   "execution_count": 8,
   "outputs": [],
   "source": [
    "from Sample.Cube.Env.cube_env import CubeEnv\n",
    "\n",
    "env = CubeEnv(3)\n",
    "eval_evn = CubeEnv(3)"
   ],
   "metadata": {
    "collapsed": false,
    "pycharm": {
     "name": "#%%\n"
    }
   }
  },
  {
   "cell_type": "markdown",
   "source": [
    "### Training set 1\n",
    "- FlattenExtractor<br>\n",
    "    just flatten layer"
   ],
   "metadata": {
    "collapsed": false,
    "pycharm": {
     "name": "#%% md\n"
    }
   }
  },
  {
   "cell_type": "code",
   "execution_count": 13,
   "outputs": [],
   "source": [
    "from stable_baselines3.dqn.policies import FlattenExtractor\n",
    "from time import ctime\n",
    "\n",
    "policy_kwargs1 = policy_kwargs.copy()\n",
    "model_kwargs1 = model_kwargs.copy()\n",
    "learning_kwargs1 = learning_kwargs.copy()\n",
    "\n",
    "policy_kwargs1['features_extractor_class'] = FlattenExtractor\n",
    "\n",
    "def learning_rate_fun(x):\n",
    "    return 0.01 * (0.5 ** (8*(1-x)))\n",
    "model_kwargs1['learning_rate'] = learning_rate_fun\n",
    "model_kwargs1['buffer_size'] = 1000\n",
    "model_kwargs1['learning_starts'] = 100\n",
    "model_kwargs1['batch_size'] = 16\n",
    "model_kwargs1['tau'] = 0.99\n",
    "model_kwargs1['train_freq'] = 1\n",
    "model_kwargs1['gradient_steps'] = model_kwargs['train_freq']\n",
    "model_kwargs1['target_update_interval'] = 10\n",
    "model_kwargs1['exploration_fraction'] = 0.2\n",
    "model_kwargs1['tensorboard_log'] = 'logs/tb_log/' + ctime().replace(' ', '-')\n",
    "model_kwargs1['policy_kwargs'] = policy_kwargs1\n",
    "model_kwargs1['verbose'] = 1\n",
    "\n",
    "learning_kwargs1['log_interval'] = 100\n",
    "learning_kwargs1['eval_env'] = env\n",
    "learning_kwargs1['eval_freq'] = 100\n",
    "learning_kwargs1['n_eval_episodes'] = 5\n",
    "learning_kwargs1['eval_log_path'] = 'logs/eval_log/'"
   ],
   "metadata": {
    "collapsed": false,
    "pycharm": {
     "name": "#%%\n"
    }
   }
  },
  {
   "cell_type": "code",
   "execution_count": null,
   "outputs": [],
   "source": [
    "from stable_baselines3.dqn import DQN\n",
    "from stable_baselines3.dqn.policies import MlpPolicy\n",
    "\n",
    "model = DQN(policy=MlpPolicy, env=env, **model_kwargs1)\n",
    "model.learn(total_timesteps=25000, **learning_kwargs1)"
   ],
   "metadata": {
    "collapsed": false,
    "pycharm": {
     "name": "#%%\n"
    }
   }
  },
  {
   "cell_type": "markdown",
   "source": [
    "### Save training_set_1"
   ],
   "metadata": {
    "collapsed": false,
    "pycharm": {
     "name": "#%% md\n"
    }
   }
  },
  {
   "cell_type": "code",
   "execution_count": 14,
   "outputs": [],
   "source": [
    "dqn_config_custom1 = config.copy()\n",
    "dqn_config_custom1['policy'] = policy_kwargs1\n",
    "dqn_config_custom1['model'] = model_kwargs1\n",
    "dqn_config_custom1['learning'] = learning_kwargs1"
   ],
   "metadata": {
    "collapsed": false,
    "pycharm": {
     "name": "#%%\n"
    }
   }
  },
  {
   "cell_type": "code",
   "execution_count": 15,
   "outputs": [],
   "source": [
    "with open('args/dqn_config_custom1.yaml', 'w') as f:\n",
    "    f.write(yaml.dump(dqn_config_custom1))\n"
   ],
   "metadata": {
    "collapsed": false,
    "pycharm": {
     "name": "#%%\n"
    }
   }
  },
  {
   "cell_type": "code",
   "execution_count": 16,
   "outputs": [],
   "source": [
    "tmp = yaml.unsafe_load(open('args/dqn_config_custom1.yaml'))\n",
    "\n",
    "\n"
   ],
   "metadata": {
    "collapsed": false,
    "pycharm": {
     "name": "#%%\n"
    }
   }
  }
 ],
 "metadata": {
  "kernelspec": {
   "display_name": "Python 3",
   "language": "python",
   "name": "python3"
  },
  "language_info": {
   "codemirror_mode": {
    "name": "ipython",
    "version": 2
   },
   "file_extension": ".py",
   "mimetype": "text/x-python",
   "name": "python",
   "nbconvert_exporter": "python",
   "pygments_lexer": "ipython2",
   "version": "2.7.6"
  }
 },
 "nbformat": 4,
 "nbformat_minor": 0
}